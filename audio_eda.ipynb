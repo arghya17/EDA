{
 "cells": [
  {
   "cell_type": "code",
   "execution_count": 1,
   "metadata": {},
   "outputs": [],
   "source": [
    "import pandas as pd"
   ]
  },
  {
   "cell_type": "code",
   "execution_count": 2,
   "metadata": {},
   "outputs": [
    {
     "data": {
      "text/html": [
       "<div>\n",
       "<style scoped>\n",
       "    .dataframe tbody tr th:only-of-type {\n",
       "        vertical-align: middle;\n",
       "    }\n",
       "\n",
       "    .dataframe tbody tr th {\n",
       "        vertical-align: top;\n",
       "    }\n",
       "\n",
       "    .dataframe thead th {\n",
       "        text-align: right;\n",
       "    }\n",
       "</style>\n",
       "<table border=\"1\" class=\"dataframe\">\n",
       "  <thead>\n",
       "    <tr style=\"text-align: right;\">\n",
       "      <th></th>\n",
       "      <th>rating</th>\n",
       "      <th>playback_used</th>\n",
       "      <th>ebird_code</th>\n",
       "      <th>channels</th>\n",
       "      <th>date</th>\n",
       "      <th>pitch</th>\n",
       "      <th>duration</th>\n",
       "      <th>filename</th>\n",
       "      <th>speed</th>\n",
       "      <th>species</th>\n",
       "      <th>...</th>\n",
       "      <th>xc_id</th>\n",
       "      <th>url</th>\n",
       "      <th>country</th>\n",
       "      <th>author</th>\n",
       "      <th>primary_label</th>\n",
       "      <th>longitude</th>\n",
       "      <th>length</th>\n",
       "      <th>time</th>\n",
       "      <th>recordist</th>\n",
       "      <th>license</th>\n",
       "    </tr>\n",
       "  </thead>\n",
       "  <tbody>\n",
       "    <tr>\n",
       "      <th>0</th>\n",
       "      <td>3.5</td>\n",
       "      <td>no</td>\n",
       "      <td>aldfly</td>\n",
       "      <td>1 (mono)</td>\n",
       "      <td>2013-05-25</td>\n",
       "      <td>Not specified</td>\n",
       "      <td>25</td>\n",
       "      <td>XC134874.mp3</td>\n",
       "      <td>Not specified</td>\n",
       "      <td>Alder Flycatcher</td>\n",
       "      <td>...</td>\n",
       "      <td>134874</td>\n",
       "      <td>https://www.xeno-canto.org/134874</td>\n",
       "      <td>United States</td>\n",
       "      <td>Jonathon Jongsma</td>\n",
       "      <td>Empidonax alnorum_Alder Flycatcher</td>\n",
       "      <td>-92.962</td>\n",
       "      <td>Not specified</td>\n",
       "      <td>8:00</td>\n",
       "      <td>Jonathon Jongsma</td>\n",
       "      <td>Creative Commons Attribution-ShareAlike 3.0</td>\n",
       "    </tr>\n",
       "    <tr>\n",
       "      <th>1</th>\n",
       "      <td>4.0</td>\n",
       "      <td>no</td>\n",
       "      <td>aldfly</td>\n",
       "      <td>2 (stereo)</td>\n",
       "      <td>2013-05-27</td>\n",
       "      <td>both</td>\n",
       "      <td>36</td>\n",
       "      <td>XC135454.mp3</td>\n",
       "      <td>both</td>\n",
       "      <td>Alder Flycatcher</td>\n",
       "      <td>...</td>\n",
       "      <td>135454</td>\n",
       "      <td>https://www.xeno-canto.org/135454</td>\n",
       "      <td>United States</td>\n",
       "      <td>Mike Nelson</td>\n",
       "      <td>Empidonax alnorum_Alder Flycatcher</td>\n",
       "      <td>-82.1106</td>\n",
       "      <td>0-3(s)</td>\n",
       "      <td>08:30</td>\n",
       "      <td>Mike Nelson</td>\n",
       "      <td>Creative Commons Attribution-NonCommercial-Sha...</td>\n",
       "    </tr>\n",
       "    <tr>\n",
       "      <th>2</th>\n",
       "      <td>4.0</td>\n",
       "      <td>no</td>\n",
       "      <td>aldfly</td>\n",
       "      <td>2 (stereo)</td>\n",
       "      <td>2013-05-27</td>\n",
       "      <td>both</td>\n",
       "      <td>39</td>\n",
       "      <td>XC135455.mp3</td>\n",
       "      <td>both</td>\n",
       "      <td>Alder Flycatcher</td>\n",
       "      <td>...</td>\n",
       "      <td>135455</td>\n",
       "      <td>https://www.xeno-canto.org/135455</td>\n",
       "      <td>United States</td>\n",
       "      <td>Mike Nelson</td>\n",
       "      <td>Empidonax alnorum_Alder Flycatcher</td>\n",
       "      <td>-82.1106</td>\n",
       "      <td>0-3(s)</td>\n",
       "      <td>08:30</td>\n",
       "      <td>Mike Nelson</td>\n",
       "      <td>Creative Commons Attribution-NonCommercial-Sha...</td>\n",
       "    </tr>\n",
       "    <tr>\n",
       "      <th>3</th>\n",
       "      <td>3.5</td>\n",
       "      <td>no</td>\n",
       "      <td>aldfly</td>\n",
       "      <td>2 (stereo)</td>\n",
       "      <td>2013-05-27</td>\n",
       "      <td>both</td>\n",
       "      <td>33</td>\n",
       "      <td>XC135456.mp3</td>\n",
       "      <td>both</td>\n",
       "      <td>Alder Flycatcher</td>\n",
       "      <td>...</td>\n",
       "      <td>135456</td>\n",
       "      <td>https://www.xeno-canto.org/135456</td>\n",
       "      <td>United States</td>\n",
       "      <td>Mike Nelson</td>\n",
       "      <td>Empidonax alnorum_Alder Flycatcher</td>\n",
       "      <td>-82.1106</td>\n",
       "      <td>0-3(s)</td>\n",
       "      <td>08:30</td>\n",
       "      <td>Mike Nelson</td>\n",
       "      <td>Creative Commons Attribution-NonCommercial-Sha...</td>\n",
       "    </tr>\n",
       "    <tr>\n",
       "      <th>4</th>\n",
       "      <td>4.0</td>\n",
       "      <td>no</td>\n",
       "      <td>aldfly</td>\n",
       "      <td>2 (stereo)</td>\n",
       "      <td>2013-05-27</td>\n",
       "      <td>both</td>\n",
       "      <td>36</td>\n",
       "      <td>XC135457.mp3</td>\n",
       "      <td>level</td>\n",
       "      <td>Alder Flycatcher</td>\n",
       "      <td>...</td>\n",
       "      <td>135457</td>\n",
       "      <td>https://www.xeno-canto.org/135457</td>\n",
       "      <td>United States</td>\n",
       "      <td>Mike Nelson</td>\n",
       "      <td>Empidonax alnorum_Alder Flycatcher</td>\n",
       "      <td>-82.1106</td>\n",
       "      <td>0-3(s)</td>\n",
       "      <td>08:30</td>\n",
       "      <td>Mike Nelson</td>\n",
       "      <td>Creative Commons Attribution-NonCommercial-Sha...</td>\n",
       "    </tr>\n",
       "  </tbody>\n",
       "</table>\n",
       "<p>5 rows × 35 columns</p>\n",
       "</div>"
      ],
      "text/plain": [
       "   rating playback_used ebird_code    channels        date          pitch  \\\n",
       "0     3.5            no     aldfly    1 (mono)  2013-05-25  Not specified   \n",
       "1     4.0            no     aldfly  2 (stereo)  2013-05-27           both   \n",
       "2     4.0            no     aldfly  2 (stereo)  2013-05-27           both   \n",
       "3     3.5            no     aldfly  2 (stereo)  2013-05-27           both   \n",
       "4     4.0            no     aldfly  2 (stereo)  2013-05-27           both   \n",
       "\n",
       "   duration      filename          speed           species  ...   xc_id  \\\n",
       "0        25  XC134874.mp3  Not specified  Alder Flycatcher  ...  134874   \n",
       "1        36  XC135454.mp3           both  Alder Flycatcher  ...  135454   \n",
       "2        39  XC135455.mp3           both  Alder Flycatcher  ...  135455   \n",
       "3        33  XC135456.mp3           both  Alder Flycatcher  ...  135456   \n",
       "4        36  XC135457.mp3          level  Alder Flycatcher  ...  135457   \n",
       "\n",
       "                                 url        country            author  \\\n",
       "0  https://www.xeno-canto.org/134874  United States  Jonathon Jongsma   \n",
       "1  https://www.xeno-canto.org/135454  United States       Mike Nelson   \n",
       "2  https://www.xeno-canto.org/135455  United States       Mike Nelson   \n",
       "3  https://www.xeno-canto.org/135456  United States       Mike Nelson   \n",
       "4  https://www.xeno-canto.org/135457  United States       Mike Nelson   \n",
       "\n",
       "                        primary_label longitude         length   time  \\\n",
       "0  Empidonax alnorum_Alder Flycatcher   -92.962  Not specified   8:00   \n",
       "1  Empidonax alnorum_Alder Flycatcher  -82.1106         0-3(s)  08:30   \n",
       "2  Empidonax alnorum_Alder Flycatcher  -82.1106         0-3(s)  08:30   \n",
       "3  Empidonax alnorum_Alder Flycatcher  -82.1106         0-3(s)  08:30   \n",
       "4  Empidonax alnorum_Alder Flycatcher  -82.1106         0-3(s)  08:30   \n",
       "\n",
       "          recordist                                            license  \n",
       "0  Jonathon Jongsma        Creative Commons Attribution-ShareAlike 3.0  \n",
       "1       Mike Nelson  Creative Commons Attribution-NonCommercial-Sha...  \n",
       "2       Mike Nelson  Creative Commons Attribution-NonCommercial-Sha...  \n",
       "3       Mike Nelson  Creative Commons Attribution-NonCommercial-Sha...  \n",
       "4       Mike Nelson  Creative Commons Attribution-NonCommercial-Sha...  \n",
       "\n",
       "[5 rows x 35 columns]"
      ]
     },
     "execution_count": 2,
     "metadata": {},
     "output_type": "execute_result"
    }
   ],
   "source": [
    "train=pd.read_csv('./train.csv')\n",
    "train.head()"
   ]
  },
  {
   "cell_type": "code",
   "execution_count": 7,
   "metadata": {},
   "outputs": [
    {
     "data": {
      "text/plain": [
       "949"
      ]
     },
     "execution_count": 7,
     "metadata": {},
     "output_type": "execute_result"
    }
   ],
   "source": [
    "len(train['ebird_code'].value_counts())\n",
    "train['recordist'].nunique()"
   ]
  },
  {
   "cell_type": "code",
   "execution_count": 9,
   "metadata": {},
   "outputs": [
    {
     "data": {
      "text/plain": [
       "<AxesSubplot:>"
      ]
     },
     "execution_count": 9,
     "metadata": {},
     "output_type": "execute_result"
    },
    {
     "data": {
      "image/png": "[encoded data removed]",
      "text/plain": [
       "<Figure size 432x288 with 1 Axes>"
      ]
     },
     "metadata": {
      "needs_background": "light"
     },
     "output_type": "display_data"
    }
   ],
   "source": [
    "train['recordist'].value_counts()[:10].sort_values().plot(kind='barh',color='#3780BD')"
   ]
  },
  {
   "cell_type": "code",
   "execution_count": 14,
   "metadata": {},
   "outputs": [
    {
     "data": {
      "text/plain": [
       "no             18964\n",
       "Not Defined     1800\n",
       "yes              611\n",
       "Name: playback_used, dtype: int64"
      ]
     },
     "execution_count": 14,
     "metadata": {},
     "output_type": "execute_result"
    }
   ],
   "source": [
    "train['playback_used'].fillna('Missing',inplace=True);\n",
    "train['playback_used'].value_counts()"
   ]
  },
  {
   "cell_type": "code",
   "execution_count": 18,
   "metadata": {},
   "outputs": [
    {
     "data": {
      "text/plain": [
       "<AxesSubplot:>"
      ]
     },
     "execution_count": 18,
     "metadata": {},
     "output_type": "execute_result"
    },
    {
     "data": {
      "image/png": "[encoded data removed]",
      "text/plain": [
       "<Figure size 432x288 with 1 Axes>"
      ]
     },
     "metadata": {
      "needs_background": "light"
     },
     "output_type": "display_data"
    }
   ],
   "source": [
    "train['rating'].value_counts().plot(kind='bar',color='#0E80AF')"
   ]
  },
  {
   "cell_type": "code",
   "execution_count": 19,
   "metadata": {},
   "outputs": [
    {
     "data": {
      "text/plain": [
       "<AxesSubplot:>"
      ]
     },
     "execution_count": 19,
     "metadata": {},
     "output_type": "execute_result"
    },
    {
     "data": {
      "image/png": "[encoded data removed]",
      "text/plain": [
       "<Figure size 864x576 with 1 Axes>"
      ]
     },
     "metadata": {
      "needs_background": "light"
     },
     "output_type": "display_data"
    }
   ],
   "source": [
    "train['date'] = train['date'].apply(pd.to_datetime,format='%Y-%m-%d', errors='coerce')\n",
    "#train.set_index('date',inplace=True)\n",
    "train['date'].value_counts().plot(figsize=(12,8))"
   ]
  },
  {
   "cell_type": "code",
   "execution_count": 21,
   "metadata": {},
   "outputs": [
    {
     "data": {
      "text/plain": [
       "<AxesSubplot:>"
      ]
     },
     "execution_count": 21,
     "metadata": {},
     "output_type": "execute_result"
    },
    {
     "data": {
      "image/png": "[encoded data removed]",
      "text/plain": [
       "<Figure size 432x288 with 1 Axes>"
      ]
     },
     "metadata": {
      "needs_background": "light"
     },
     "output_type": "display_data"
    }
   ],
   "source": [
    "train['species'].value_counts().plot()"
   ]
  }
 ],
 "metadata": {
  "kernelspec": {
   "display_name": "Python 3.10.4 ('eda')",
   "language": "python",
   "name": "python3"
  },
  "language_info": {
   "codemirror_mode": {
    "name": "ipython",
    "version": 3
   },
   "file_extension": ".py",
   "mimetype": "text/x-python",
   "name": "python",
   "nbconvert_exporter": "python",
   "pygments_lexer": "ipython3",
   "version": "3.10.4"
  },
  "orig_nbformat": 4,
  "vscode": {
   "interpreter": {
    "hash": "fd1d812f89816bfdc556ccd847179e4172b1e508cebe80a0bb93c0b3a4a01e8e"
   }
  }
 },
 "nbformat": 4,
 "nbformat_minor": 2
}
